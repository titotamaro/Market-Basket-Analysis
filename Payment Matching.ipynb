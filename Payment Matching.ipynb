{
 "cells": [
  {
   "cell_type": "code",
   "execution_count": 1,
   "metadata": {},
   "outputs": [
    {
     "name": "stderr",
     "output_type": "stream",
     "text": [
      "C:\\ProgramData\\Anaconda3\\lib\\site-packages\\fuzzywuzzy\\fuzz.py:11: UserWarning: Using slow pure-python SequenceMatcher. Install python-Levenshtein to remove this warning\n",
      "  warnings.warn('Using slow pure-python SequenceMatcher. Install python-Levenshtein to remove this warning')\n"
     ]
    }
   ],
   "source": [
    "import pandas as pd\n",
    "import re\n",
    "from fuzzywuzzy import fuzz\n",
    "import warnings"
   ]
  },
  {
   "cell_type": "code",
   "execution_count": 2,
   "metadata": {},
   "outputs": [],
   "source": [
    "df1 = pd.read_csv('bank_statement.csv')\n",
    "df2 = pd.read_csv('checkout.csv')"
   ]
  },
  {
   "cell_type": "code",
   "execution_count": 3,
   "metadata": {},
   "outputs": [],
   "source": [
    "# Remove special character\n",
    "\n",
    "df1.desc = df1.desc.apply(lambda x: re.sub(r\"[^a-zA-Z0-9]+\",' ',x))\n",
    "df2.buyer_name = df2.buyer_name.apply(lambda x: re.sub(r\"[^a-zA-Z0-9]+\",' ',x))\n",
    "df1.desc = df1.desc.apply(lambda x: re.sub(r\"TRANSFER\",'',x))\n",
    "df2.buyer_name = df2.buyer_name.apply(lambda x: re.sub(r\"TRANSFER\",'',x))"
   ]
  },
  {
   "cell_type": "code",
   "execution_count": 4,
   "metadata": {},
   "outputs": [],
   "source": [
    "# Sorting amount by value\n",
    "df1 = df1.sort_values(by=['stmt_amount'])\n",
    "df2 = df2.sort_values(by=['ckt_amount'])\n",
    "\n",
    "# Converting to set\n",
    "df1.desc = df1.desc.apply(lambda x : set(x.split()))\n",
    "df2.buyer_name = df2.buyer_name.apply(lambda x : set(x.split()))"
   ]
  },
  {
   "cell_type": "markdown",
   "metadata": {},
   "source": [
    "### Matching Price and Description"
   ]
  },
  {
   "cell_type": "code",
   "execution_count": 5,
   "metadata": {},
   "outputs": [],
   "source": [
    "prices = sorted(list(set(df2.ckt_amount))) # using set for non repeat values"
   ]
  },
  {
   "cell_type": "markdown",
   "metadata": {},
   "source": [
    "1. Go through unique prices one by one\n",
    "2. For each price, query all the bank statements and transactions\n",
    "3. For each transaction, find a bank statements that matches best\n",
    "4. If the transaction not found, will be processed later with fuzzy"
   ]
  },
  {
   "cell_type": "code",
   "execution_count": 6,
   "metadata": {},
   "outputs": [],
   "source": [
    "# Matching prices and description\n",
    "\n",
    "bs, co = df1.values.tolist(), df2.values.tolist()\n",
    "curr_bank, curr_trans, pend_bank, pend_trans = [], [], [], []\n",
    "answer = []\n",
    "no_ans_trans, no_ans_bank = [], []\n",
    "\n",
    "for price in prices:\n",
    "    while bs and bs[0][1] == price:\n",
    "        curr_bank.append(bs.pop(0))\n",
    "    while co and co[0][1] == price:\n",
    "        curr_trans.append(co.pop(0))\n",
    "        \n",
    "    for trans in curr_trans:\n",
    "        found = False\n",
    "        curname = trans[2]\n",
    "        bk = list(filter(lambda x : x[2].intersection(curname), curr_bank))\n",
    "        if bk: \n",
    "            b = max(bk, key=lambda x : len(x[2].intersection(curname)))\n",
    "            answer.append((trans,b))\n",
    "            curr_bank.remove(b)\n",
    "        else: \n",
    "            no_ans_trans.append(trans)\n",
    "            \n",
    "    no_ans_bank.extend(curr_bank)\n",
    "        \n",
    "    curr_bank, curr_trans = [], []"
   ]
  },
  {
   "cell_type": "code",
   "execution_count": 7,
   "metadata": {},
   "outputs": [
    {
     "data": {
      "text/plain": [
       "3143"
      ]
     },
     "execution_count": 7,
     "metadata": {},
     "output_type": "execute_result"
    }
   ],
   "source": [
    "len(no_ans_bank)"
   ]
  },
  {
   "cell_type": "code",
   "execution_count": 8,
   "metadata": {},
   "outputs": [
    {
     "data": {
      "text/plain": [
       "3143"
      ]
     },
     "execution_count": 8,
     "metadata": {},
     "output_type": "execute_result"
    }
   ],
   "source": [
    "len(no_ans_trans)"
   ]
  },
  {
   "cell_type": "markdown",
   "metadata": {},
   "source": [
    "### Improving with Fuzzy Search"
   ]
  },
  {
   "cell_type": "code",
   "execution_count": 9,
   "metadata": {},
   "outputs": [],
   "source": [
    "# Getting IDs of transaction that does not match\n",
    "no_id_bank, no_id_trans = [], []\n",
    "for x in range(len(no_ans_bank)):\n",
    "    no_id_bank.append(no_ans_bank[x][0])\n",
    "    no_id_trans.append(no_ans_trans[x][0])"
   ]
  },
  {
   "cell_type": "code",
   "execution_count": 10,
   "metadata": {},
   "outputs": [],
   "source": [
    "# Getting subset of dataframe that previously has no match\n",
    "checkout2 = df2[df2['ckt_id'].isin(no_id_trans)]\n",
    "bank_statement2 = df1[df1['stmt_id'].isin(no_id_bank)]"
   ]
  },
  {
   "cell_type": "code",
   "execution_count": 11,
   "metadata": {},
   "outputs": [
    {
     "name": "stderr",
     "output_type": "stream",
     "text": [
      "C:\\ProgramData\\Anaconda3\\lib\\site-packages\\ipykernel_launcher.py:2: SettingWithCopyWarning: \n",
      "A value is trying to be set on a copy of a slice from a DataFrame.\n",
      "Try using .loc[row_indexer,col_indexer] = value instead\n",
      "\n",
      "See the caveats in the documentation: http://pandas.pydata.org/pandas-docs/stable/user_guide/indexing.html#returning-a-view-versus-a-copy\n",
      "  \n",
      "C:\\ProgramData\\Anaconda3\\lib\\site-packages\\ipykernel_launcher.py:3: SettingWithCopyWarning: \n",
      "A value is trying to be set on a copy of a slice from a DataFrame.\n",
      "Try using .loc[row_indexer,col_indexer] = value instead\n",
      "\n",
      "See the caveats in the documentation: http://pandas.pydata.org/pandas-docs/stable/user_guide/indexing.html#returning-a-view-versus-a-copy\n",
      "  This is separate from the ipykernel package so we can avoid doing imports until\n"
     ]
    }
   ],
   "source": [
    "# Converting Set to string\n",
    "bank_statement2['desc'] = bank_statement2['desc'].apply(lambda x: ' '.join(sorted(list(x))))\n",
    "checkout2['buyer_name'] = checkout2['buyer_name'].apply(lambda x: ' '.join(sorted(list(x))))"
   ]
  },
  {
   "cell_type": "code",
   "execution_count": 12,
   "metadata": {},
   "outputs": [],
   "source": [
    "prices = sorted(list(set(checkout2.ckt_amount)))"
   ]
  },
  {
   "cell_type": "code",
   "execution_count": 13,
   "metadata": {},
   "outputs": [],
   "source": [
    "# Applying Fuzzy Search\n",
    "bs2, co2 = bank_statement2.values.tolist(), checkout2.values.tolist(), \n",
    "curr_bank2, curr_trans2 = [], []\n",
    "answer2 = []\n",
    "for price in prices:\n",
    "    while bs2 and bs2[0][1] == price:\n",
    "        curr_bank2.append(bs2.pop(0))\n",
    "    while co2 and co2[0][1] == price:\n",
    "        curr_trans2.append(co2.pop(0))\n",
    "    for trans in curr_trans2:\n",
    "        curname = trans[2]\n",
    "        b = max(curr_bank2, key= lambda x: fuzz.partial_ratio(curname, x[2]))\n",
    "        answer2.append((trans, b))\n",
    "        curr_bank2.remove(b)\n",
    "    curr_bank2, curr_trans2 = [], []"
   ]
  },
  {
   "cell_type": "code",
   "execution_count": 14,
   "metadata": {},
   "outputs": [],
   "source": [
    "pd.DataFrame(answer2).to_csv('analysis.csv')"
   ]
  },
  {
   "cell_type": "code",
   "execution_count": 15,
   "metadata": {},
   "outputs": [],
   "source": [
    "# Construct final dataframe\n",
    "fs1 = [(x[0][0], x[1][0]) for x in answer]\n",
    "fs2 = [(x[0][0], x[1][0]) for x in answer2]\n",
    "fs = pd.DataFrame(fs1+fs2)\n",
    "fs.columns=['ckt_id', 'stmt_id']\n",
    "fs=fs[['stmt_id', 'ckt_id']]"
   ]
  },
  {
   "cell_type": "code",
   "execution_count": 16,
   "metadata": {},
   "outputs": [
    {
     "name": "stdout",
     "output_type": "stream",
     "text": [
      "(240000, 2)\n"
     ]
    }
   ],
   "source": [
    "# Output CSV\n",
    "print(fs.shape)\n",
    "fs.to_csv('Final_Answer.csv', index=False)"
   ]
  }
 ],
 "metadata": {
  "kernelspec": {
   "display_name": "Python 3",
   "language": "python",
   "name": "python3"
  },
  "language_info": {
   "codemirror_mode": {
    "name": "ipython",
    "version": 3
   },
   "file_extension": ".py",
   "mimetype": "text/x-python",
   "name": "python",
   "nbconvert_exporter": "python",
   "pygments_lexer": "ipython3",
   "version": "3.7.4"
  }
 },
 "nbformat": 4,
 "nbformat_minor": 4
}
